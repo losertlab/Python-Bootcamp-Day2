{
 "cells": [
  {
   "cell_type": "markdown",
   "id": "988aedd8",
   "metadata": {},
   "source": [
    "# Useful tools for python development\n",
    "\n",
    "## Making notebooks interactive"
   ]
  },
  {
   "cell_type": "markdown",
   "id": "9243104b",
   "metadata": {},
   "source": [
    "ipywidgets provides an extremely simple interface for making interactive jupyter notebooks via the function ```interact```\n"
   ]
  },
  {
   "cell_type": "code",
   "execution_count": 4,
   "id": "0038ce48",
   "metadata": {},
   "outputs": [],
   "source": [
    "import ipywidgets as widgets"
   ]
  },
  {
   "cell_type": "markdown",
   "id": "c971fe94",
   "metadata": {},
   "source": [
    "At the most basic level, interact autogenerates UI controls for function arguments, and then calls the function with those arguments when you manipulate the controls interactively. To use interact, you need to define a function that you want to explore. Here is a function that triples its argument, x"
   ]
  },
  {
   "cell_type": "code",
   "execution_count": 15,
   "id": "7a87d95b-417b-43cb-a461-f9b8df3207b3",
   "metadata": {},
   "outputs": [],
   "source": [
    "def f(x):\n",
    "    return 3*x"
   ]
  },
  {
   "cell_type": "markdown",
   "id": "fde00024",
   "metadata": {},
   "source": [
    "By specifying a range of values for x, we have generate a slider that goes between 0 and 10 with steps of 1"
   ]
  },
  {
   "cell_type": "code",
   "execution_count": 24,
   "id": "c52b8e62",
   "metadata": {},
   "outputs": [
    {
     "data": {
      "application/vnd.jupyter.widget-view+json": {
       "model_id": "8a06199a5d2c44f6b9532d368df22d69",
       "version_major": 2,
       "version_minor": 0
      },
      "text/plain": [
       "interactive(children=(IntSlider(value=5, description='x', max=10), Output()), _dom_classes=('widget-interact',…"
      ]
     },
     "metadata": {},
     "output_type": "display_data"
    },
    {
     "data": {
      "text/plain": [
       "<function __main__.f(x)>"
      ]
     },
     "execution_count": 24,
     "metadata": {},
     "output_type": "execute_result"
    }
   ],
   "source": [
    "widgets.interact(f, x=(0, 10, 1))"
   ]
  },
  {
   "cell_type": "markdown",
   "id": "e38e77db",
   "metadata": {},
   "source": [
    "interact can also be used to generate text input forms, drop down boxes, and checkboxes by passing strings, booleans, and lists respectively"
   ]
  },
  {
   "cell_type": "code",
   "execution_count": 21,
   "id": "84c41a4f",
   "metadata": {},
   "outputs": [
    {
     "data": {
      "application/vnd.jupyter.widget-view+json": {
       "model_id": "d9105c5f303348acb5019d41cbc7ae30",
       "version_major": 2,
       "version_minor": 0
      },
      "text/plain": [
       "interactive(children=(Text(value='Hello', description='x'), Output()), _dom_classes=('widget-interact',))"
      ]
     },
     "metadata": {},
     "output_type": "display_data"
    },
    {
     "data": {
      "text/plain": [
       "<function __main__.f(x)>"
      ]
     },
     "execution_count": 21,
     "metadata": {},
     "output_type": "execute_result"
    }
   ],
   "source": [
    "interact(f, x = 'Hello')"
   ]
  },
  {
   "cell_type": "code",
   "execution_count": 22,
   "id": "8196fa85",
   "metadata": {},
   "outputs": [
    {
     "data": {
      "application/vnd.jupyter.widget-view+json": {
       "model_id": "0264f696b7b6466c88780dafe6be3440",
       "version_major": 2,
       "version_minor": 0
      },
      "text/plain": [
       "interactive(children=(Checkbox(value=True, description='x'), Output()), _dom_classes=('widget-interact',))"
      ]
     },
     "metadata": {},
     "output_type": "display_data"
    },
    {
     "data": {
      "text/plain": [
       "<function __main__.f(x)>"
      ]
     },
     "execution_count": 22,
     "metadata": {},
     "output_type": "execute_result"
    }
   ],
   "source": [
    "interact(f, x=True)"
   ]
  },
  {
   "cell_type": "code",
   "execution_count": 23,
   "id": "868065a2",
   "metadata": {},
   "outputs": [
    {
     "data": {
      "application/vnd.jupyter.widget-view+json": {
       "model_id": "8390c8df5b9d4c86b476b64c05047460",
       "version_major": 2,
       "version_minor": 0
      },
      "text/plain": [
       "interactive(children=(Dropdown(description='x', options=(1, 2, 3), value=1), Output()), _dom_classes=('widget-…"
      ]
     },
     "metadata": {},
     "output_type": "display_data"
    },
    {
     "data": {
      "text/plain": [
       "<function __main__.f(x)>"
      ]
     },
     "execution_count": 23,
     "metadata": {},
     "output_type": "execute_result"
    }
   ],
   "source": [
    "interact(f, x=[1,2,3])"
   ]
  },
  {
   "cell_type": "markdown",
   "id": "22c67c13",
   "metadata": {},
   "source": [
    "interact can also be used as a decorator when a function is declared. Here is an example of a basic interactive plotting function."
   ]
  },
  {
   "cell_type": "code",
   "execution_count": 17,
   "id": "c06f452d",
   "metadata": {},
   "outputs": [
    {
     "data": {
      "application/vnd.jupyter.widget-view+json": {
       "model_id": "56e5569153c64dd4b7b03f4bd81a2843",
       "version_major": 2,
       "version_minor": 0
      },
      "text/plain": [
       "interactive(children=(FloatSlider(value=1.0, description='m', max=2.0, min=-2.0), FloatSlider(value=1.0, descr…"
      ]
     },
     "metadata": {},
     "output_type": "display_data"
    }
   ],
   "source": [
    "%matplotlib inline\n",
    "\n",
    "@widgets.interact(m=(-2.0,2.0), b = (-3, 3, 0.5))\n",
    "def plot_line(m=1, b=1):\n",
    "    fig = plt.figure()\n",
    "    plt.clf()\n",
    "    plt.grid()\n",
    "    xs = np.linspace(-10, 10, 1000)\n",
    "    plt.plot(xs, m*xs + b)\n",
    "    plt.xlim(-10,10)\n",
    "    plt.ylim(-5,5)\n",
    "    plt.show()"
   ]
  },
  {
   "cell_type": "markdown",
   "id": "31452e00",
   "metadata": {},
   "source": [
    "While the above example works, it has some drawbacks:\n",
    "\n",
    "1.It is inefficient to re-run all the plotting code (the whole plot gets re-created every time -- to see this, run the code above again after running the cell below and see how the figure numbers get incremented)\n",
    "\n",
    "2.No zooming or panning\n",
    "\n",
    "3.Screen can jump when moving the sliders\n",
    "\n",
    "A better solution is to use the ipympl Matplotlib backend. You can activate this with the line magic: %matplotlib ipympl."
   ]
  },
  {
   "cell_type": "code",
   "execution_count": 18,
   "id": "b9d280a0",
   "metadata": {},
   "outputs": [
    {
     "data": {
      "application/vnd.jupyter.widget-view+json": {
       "model_id": "f15da2f89f664cad9bb4dafa719d6221",
       "version_major": 2,
       "version_minor": 0
      },
      "text/plain": [
       "interactive(children=(FloatSlider(value=1.0, description='m', max=2.0, min=-2.0), FloatSlider(value=0.5, descr…"
      ]
     },
     "metadata": {},
     "output_type": "display_data"
    },
    {
     "data": {
      "application/vnd.jupyter.widget-view+json": {
       "model_id": "43b45a135cd345e7b31d583ea7fd45c8",
       "version_major": 2,
       "version_minor": 0
      },
      "image/png": "[encoded data removed]",
      "text/html": [
       "\n",
       "            <div style=\"display: inline-block;\">\n",
       "                <div class=\"jupyter-widgets widget-label\" style=\"text-align: center;\">\n",
       "                    Figure\n",
       "                </div>\n",
       "                <img src='data:image/png;base64,iVBORw0KGgoAAAANSUhEUgAAAbAAAAEgCAYAAADVKCZpAAAAOXRFWHRTb2Z0d2FyZQBNYXRwbG90bGliIHZlcnNpb24zLjQuMSwgaHR0cHM6Ly9tYXRwbG90bGliLm9yZy/Z1A+gAAAACXBIWXMAAAsTAAALEwEAmpwYAAAVkUlEQVR4nO3ce5BcdZnG8WcSIhiIBs0AQoIJm/ACAiUmRreAWtZECCziqqABVFatVRRq1y1dEqBMIqzIrnKJAoLihawsyC6woE6EIHKRu2C45PICud9ZSIaEmomZS+8f3R1Ohp6Znkmf8zu/7u+niiJ9mczbp/v00+fXJ09ToVAQAACxGRJ6AAAABoMAAwBEiQADAESJAAMARIkAAwBEiQADAESJAAMARIkAAwBEiQADAESJAAMARIkAAwBEiQADAESJAAMARIkAAwBEiQADAESJAAMARIkAAwBEiQADAESJAAMARIkAAwBEiQADAESJAAMARIkAAwBEiQADAESJAAMARIkAAwBEiQADAESJAAMARIkAAwBEiQADAESJAAMARIkAAwBEiQADAESJAAMARGmP0AOkpbu7u9DVVQg9BoA+rG1t1xs7ujTuXcO15x58ns6DYcOGviqpOfQc1ajbAOvqKqi1tS30GAB6cedzG3TZgpf0LyccorMmjlZ76IEgSWpuHrEq9AzV4iMPgMyt2dKuqx5Ypg8ePFLTP3BQ6HEQKQIMQKY6uwuaNX+p9hgyRLOnmYY0NYUeCZEiwABk6udPrNYLG7Zp5tTx2n/EnqHHQcQIMACZWbRhq3762CpNO3w/nXjYfqHHQeQIMACZaO/o0qz5ruZ99tQFHxkfehzUgbo9CxFAvlz9wHKt2dKuH336aI3Yi7ce7D6OwACk7uFlr+mO5zbos5NGa+KYkaHHQZ0gwACkanPbDv3bvS9qQvPeOvfYsaHHQR3hOB5AagqFgr5z70t64y+duvaMo/U22jZQQ7yaAKTmruc36qFlr+m848dp/Ki9Q4+DOkOAAUjFmi3tupK2DaSIAANQc7RtIAsEGICao20DWSDAANQUbRvICgEGoGbKbRujaNtABqI6jd7Mhkr6k6R17n5q6HkA7Grug7RtIDuxHYH9s6QloYcA8FYPL3tNtz9L2wayE02AmdloSX8n6cbQswDYFW0bCCGaAJN0taQLJHUHngNAQrJt45JTDqNtA5mJ4pVmZqdKesXdnw49C4Bd0baBUKIIMEnHSjrNzFZKulXSR8zsl2FHAkDbBkJqKhQKoWcYEDM7QdI3+zsLsaOjq9Da2pbNUEAD6uwu6Mu3LtTKze265ZyJ/IPlOtHcPOJpSZNCz1GNWI7AAOTMz59Yredp20BA0f1DDXd/QNIDgccAGhptG8gDjsAADAhtG8iL6I7AAIRF2wbygiMwAFX74/Ji28bZtG0gBwgwAFXZ3LZDl95TbNv4Km0byAGO/wH0K9m2ce3pR9O2gVzgVQigX7u0bTTTtoF8IMAA9Im2DeQVAQagV53dBc2ev1R7DBmi2dNMQ5qaQo8E7ESAAejVL2jbQI4RYAAqWrRhq258bJVOOqyZtg3kEgEG4C2SbRszpkwIPQ5QEafRA3gL2jYQA47AAOyCtg3EggADsNMW2jYQEdYGAEh6s21jG20biASvUACSpLtf2KgHl72m846jbQNxIMAAaM2Wdl3xh2WadPBInTmRtg3EgQADGlyybWMObRuICAEGNDjaNhArAgxoYIs2bqNtA9EiwIAG1d7RpVktS2nbQLQ4jR5oUOW2jevOoG0DceIIDGhAybaNSQePDD0OMCgEGNBgaNtAvWDdAGggtG2gnvDqBRoIbRuoJwQY0CDWttK2gfpCgAENoLO7oFktxbaN2ScdStsG6gIBBjSAZNvGAe/YK/Q4QE0QYECdo20D9YoAA+oYbRuoZ5xGD9Qx2jZQzzgCA+rUI8s36/ZnN+isibRtoD4RYEAd2tK2Q5fc4xo/am997bixoccBUsGaAlBnaNtAo4giwMxsjKR5kg6Q1C3px+4+N+xUQD6V2za+/jeH0LaBuhbLR7NOSd9w98MlfVjSeWZ2ROCZgNyhbQONJIoAc/cN7v5M6c/bJC2RxN4JJBTbNpy2DTSMKAIsyczGSjpG0hOBRwFy5aYnV+v5DVs1YwptG2gMUQWYme0j6XZJX3f3raHnAfJi0cZt+smjxbaNkw6nbQONIZoAM7NhKobXze5+R+h5gLxItm1cMGV86HGAzMRyFmKTpJ9KWuLuV4aeB8iTZNvGO/YaFnocIDNRBJikYyV9TtLzZrawdN1F7t4SbiQgvHLbxtm0baABRRFg7v5HSZxSBSTQtoFGF0WAAdhVoVDQZQto20Bj41UPROjuFzbqgZdf09eOG0fbBhoWAQZEZmfbxph36izaNtDACDAgIru0bUwz2jbQ0AgwICK0bQBvIsCASCzeuE0/eWw1bRtACQEGRKC9o0vfalmqdw8fRtsGUMJp9EAE5j64XKu3tOu6M46ibQMo4QgMyLlk28YHD9439DhAbhBgQI7RtgH0jiVEIKdo2wD6xh4B5NSvX9hE2wbQBwIMyCHaNoD+EWBAzpTbNoYMEW0bQB8IMCBnym0bM6dMoG0D6AMBBuQIbRtA9QgwICe2d3RpFm0bQNU4jR7IibkPLtcq2jaAqnEEBuTAI8s363+e3aCzJh5E2wZQJQIMCGzXto1xoccBosESIhBQsm3jmtOP0p60bQBVY28BAkq2bUxo3if0OEBUCDAgENo2gN1DgAEBdHYXNHs+bRvA7iDAgABuenK1nlu/VTNo2wAGjQADMlZu2zjRmjWNtg1g0AgwIEPJto0ZU2nbAHYHp9EDGaJtA6gdjsCAjDyygrYNoJYIMCADW9p26NJ7XqRtA6ghlhCBlJXbNrZu79APP3UkbRtAjbAnASkrt2189dixtG0ANUSAASlKtm2cPWl06HGAukKAASmhbQNIVzTfgZnZNElzJQ2VdKO7Xx54JKBP855co+fWb9WlpxxG2waQgiiOwMxsqKRrJZ0s6QhJZ5rZEWGnAnq3eOM2/fixVbRtACmKIsAkTZb0srsvd/cdkm6V9PHAMwEV0bYBZCOWADtI0prE5bWl64DcKbdtzJ5mtG0AKYolwCp9+13IfAqgH8m2jcnvpW0DSFMsAbZW0pjE5dGS1geaBaiota2Dtg0gQ7GchfiUpAlmNk7SOknTJZ0VdiTgTYVCQd9Z8CJtG0CGotjL3L1T0vmS7pG0RNJt7r4o7FTAm369iLYNIGuxHIHJ3VsktYSeA+hpbWu7rrh/mSbStgFkKoojMCCvkm0bc2jbADJFgAG7ody2MWPKBNo2gIwRYMAg0bYBhEWAAYNA2wYQXjQncQB58oOHVmjVlnZde/pRtG0AgXAEBgzQIys2678XrqdtAwiMAAMGoNy28VejhtO2AQTGEiJQpWTbxg8+SdsGEBp7IFClZNvGofvRtgGERoABVaBtA8gfAgzoR2d3QXNo2wByhwAD+jHvyTV6dv1WXTBlPG0bQI4QYEAfym0bH7VmTTuMtg0gTwgwoBfJto2ZU8eriaVDIFc4jR7oBW0bQL5xBAZU8ChtG0DuEWBAD61tHbqEtg0g91hCBBJo2wDiwd4JJNC2AcSDAANKkm0bZ02kbQPIOwIMkNTVo21j6BBOmQfyjgADJM17irYNIDYEGBre4o3bdMOjtG0AsSHA0NBo2wDixWn0aGi0bQDx4ggMDYu2DSBuBBgaEm0bQPxYQkTDKRQKuuy+l2jbACLHnouG8+tFm/SHl16lbQOIHAGGhlJu2/jAaNo2gNgRYGgY5baNpiZpzsm0bQCxI8DQMMptGzOmjtd7aNsAokeAoSEs2UTbBlBvCDDUPdo2gPrEafSoez94aIVWbqZtA6g3uQ8wM/uepI9J2iFpmaQvuHtr0KEQjXLbxpkfoG0DqDcxLCEukHSkux8t6UVJFwaeB5Eot20c8u7hOu942jaAepP7IzB3vzdx8XFJp4eaBfGgbQOof7Ht1V+UND/0EMi/39C2AdS9XByBmdl9kg6ocNPF7n5X6T4XS+qUdHOWsyE+a1vb9X3aNoC6l4sAc/epfd1uZudIOlXSFHcvZDMVYkTbBtA4cr+EaGbTJM2QdJq7t4WeB/lWbtu4YAptG0C9y32ASbpG0ghJC8xsoZldH3og5FO5bWPqoc06+XDaNoB6l4slxL64+/jQMyD/aNsAGk/uAwyoxg8TbRvvfDttG0AjiGEJEejToys26zbaNoCGQ4AharRtAI2LJUREq9y28Xo7bRtAI2KPR7Ro2wAaGwGGKK17vV1X/KHYtnH2JNo2gEZEgCE6Xd0FzW5xSbRtAI2MAEN0aNsAIBFgiAxtGwDKCDBEg7YNAEkEGKJRbtuYNc1o2wBAgCEOj618s23jQ7RtABABhgi0tnfokt/RtgFgVzRxINcKhYIuW/CSWts7NJe2DQAJvBsg12jbANAbAgy5VW7bOIa2DQAVEGDIpWTbxrdp2wBQAQGGXKJtA0B/CDDkzlLaNgBUgQBDrmzv6NK3aNsAUAUCDLlC2waAahFgyI1y28Z02jYAVIEAQy6U2zbGvXu4zjtubOhxAESAJg4EVygU9N1S28bVnzxSew0bGnokABHgCAzB/XbxJt1fatsw2jYAVIkAQ1DrXm/X9++nbQPAwBFgCIa2DQC7gwBDMLRtANgdBBiCeLNtYxRtGwAGhQBD5rZ3dGlWi+tdw4dp5tQJtG0AGBROo0fmrnl4hVZsbtM1px9F2waAQeMIDJl6bOVm/erPtG0A2H0EGDJD2waAWmIJEZmgbQNArUVzBGZm3zSzgpmNCj0LBq7ctnEubRsAaiSKADOzMZI+Kml16FkwcMm2jc/StgGgRqIIMElXSbpAUiH0IBiYru6C5synbQNA7eU+wMzsNEnr3P3Z0LNg4OY9tUYL19G2AaD2cnESh5ndJ+mACjddLOkiSSdmOxFqgbYNAGlqKhTyuypnZkdJ+r2kttJVoyWtlzTZ3Tf29bMdHV2F1ta2vu6CFG3v6NLnf/lnvbGjU7d8fiL/YBmIRHPziKclTQo9RzVycQTWG3d/XtLOj+5mtlLSJHd/NdhQqMrOto1P0bYBIB25/w4M8Xk82bYxlrYNAOnI9RFYT+4+NvQM6Ftre4e+TdsGgAxEFWDIN9o2AGSJJUTUDG0bALJEgKEmdrZtHPQO2jYAZIIAw25Ltm3MOfkw2jYAZIIAw277z0TbxoHvpG0DQDYIMOwW2jYAhEKAYdC2d3RpVotr3+HDNHPqBDU1sXQIIDucRo9Bo20DQEgcgWFQym0bnznmQNo2AARBgGHAkm0b5x8/LvQ4ABoUS4gYkEKhoMvvK7VtfIK2DQDhcASGAWlZ/Ip+/2KpbWN/2jYAhEOAoWrrXm/X9+5/mbYNALlAgKEqtG0AyBsCDFUpt23860do2wCQDwQY+uWb3tANj67SlENH6ZQjaNsAkA8EGPq0vaNL32pZqpFvp20DQL40FQqF0DOk5f8krQo9BABE5r2SmkMPUY16DjAAQB1jCREAECUCDAAQJQIMABAlAgwAECUCDAAQpYZtozezMyTNkXS4pMnu/qfEbRdK+pKkLkn/5O73VPj5d0n6laSxklZK+rS7b6nxjL+SZKWLIyW1uvv7K9xvpaRtpXk73X1SLeeo8PvmSPpHFf+pgiRd5O4tFe43TdJcSUMl3ejul6c81/ckfUzSDknLJH3B3Vsr3G+lMthe/T1+M2sq3X6KpDZJ/+Duz6QxS+J3jpE0T9IBkrol/djd5/a4zwmS7pK0onTVHe5+SZpzlX7vSvXxvATaXqbifl52iKRZ7n514j4nKKPtZWY/k3SqpFfc/cjSdVW9F2W9P2ahYQNM0guSPinphuSVZnaEpOmS3ifpQEn3mdmh7t7V4+dnSvq9u19uZjNLl2fUckB3/0xiriskvd7H3f/W3V+t5e/vx1Xu/v3ebjSzoZKulfRRSWslPWVmd7v74hRnWiDpQnfvNLN/l3Shen9OUt1eVT7+kyVNKP33IUk/Kv0/TZ2SvuHuz5jZCElPm9mCCs/Lw+5+asqzVNLX85L59nJ3l/R+aedzuk7SnRXumtX2+oWka1T8EFLW73tRoP0xdQ27hOjuS0ovzp4+LulWd/+Lu6+Q9LKkyb3c76bSn2+S9PepDKqdnzw/LemWtH5HCiZLetndl7v7Dkm3qrjNUuPu97p7Z+ni45JCVuZX8/g/Lmmeuxfc/XFJI83sPWkO5e4bykct7r5N0hJJB6X5O2so8+3VwxRJy9w9WEGCuz8kaXOPq6t5L8p8f8xCwwZYHw6StCZxea0q7+D7u/sGqfimICnNksDjJW1y95d6ub0g6V4ze9rMvpziHEnnm9lzZvYzM9u3wu3Vbse0fFHS/F5uy2J7VfP4g24jMxsr6RhJT1S4+a/N7Fkzm29m78topP6el9Cvqenq/UNkiO1VVs17Uehtl4q6XkI0s/tUXOvv6WJ3v6uXH6tU9pdaXUmVM56pvo++jnX39Wa2n6QFZra09EktlblUXLq5VMXtcqmkK1QMjKRUtmM128vMLlZxqezmXv6amm+vCqp5/Jm+1pLMbB9Jt0v6urtv7XHzM5Le6+5vmNkpkv5XxWW7tPX3vITcXm+TdJqKy9I9hdpeAxFs26WprgPM3acO4sfWShqTuDxa0voK99tkZu9x9w2lZYxX0pjRzPZQ8bu6iX38HetL/3/FzO5Ucblgt96Qq912ZvYTSb+pcFO127Gmc5nZOSp+yT3F3SvuoGlsrwqqefypbKP+mNkwFcPrZne/o+ftyUBz9xYzu87MRqX9HWsVz0uQ7VVysqRn3H1TzxtCba+Eat6LQm671LCE+FZ3S5puZnua2TgVP0k92cv9zin9+RwVz0JKw1RJS919baUbzWzv0pfxMrO9JZ2o4gkqqenxvcMnevl9T0maYGbjSp9ep6u4zdKca5qKX16f5u5tvdwnq+1VzeO/W9LnzazJzD4s6fXyUlBaSt+n/lTSEne/spf7HFC6n8xssorvE6+lPFc1z0vm2yuh11WQENurh2reizLfH7NQ10dgfTGzT0j6oYqty781s4XufpK7LzKz2yQtVnEZ6rzyGYhmdqOk60un3F8u6TYz+5Kk1ZLOSGnUt6y7m9mBKp4Ge4qk/SXdWTzbV3tI+i93/11Ks5T9h5m9X8UliJWSvtJzrtKZgOdLukfF03Z/5u6LUp7rGkl7qrj8JEmPu/u5IbZXb4/fzM4t3X69pBYVTwl/WcXTwr9Q6zkqOFbS5yQ9b2YLS9ddJOngxFynS/qqmXVKapc0vbej2Rqq+LzkYHvJzIarePbeVxLXJefKbHuZ2S2STpA0yszWSpqtXt6LcrA/po42egBAlFhCBABEiQADAESJAAMARIkAAwBEiQADAESJAAMARIkAAwBEiQADAESJAAMARIkAAwBEiQADAESJAAMARIkAAwBEiQADAESJAAMARIkAAwBEiQADAESJAAMARIkAAwBEiQADAETp/wF7BDz23IcNsgAAAABJRU5ErkJggg==' width=432.0/>\n",
       "            </div>\n",
       "        "
      ],
      "text/plain": [
       "Canvas(toolbar=Toolbar(toolitems=[('Home', 'Reset original view', 'home', 'home'), ('Back', 'Back to previous …"
      ]
     },
     "metadata": {},
     "output_type": "display_data"
    }
   ],
   "source": [
    "# Activate the widget based backend.\n",
    "import matplotlib.pyplot as plt\n",
    "import numpy as np\n",
    "\n",
    "%matplotlib ipympl\n",
    "\n",
    "x = np.linspace(-10, 10, num=1000)\n",
    "fig, ax = plt.subplots()\n",
    "ax.grid()\n",
    "ax.set_ylim(-5, 5)\n",
    "# Initialize a plot object with y = x. We'll be modifying y below.\n",
    "# This returns a list of `.Line2D` representing the plotted data. We grab the first one -- we only have 1 series.\n",
    "line = ax.plot(x, x)[0]\n",
    "\n",
    "@widgets.interact(m=(-2.0, 2.0), b=(-3, 3, 0.5))\n",
    "def update_line(m=1, b=0.5):\n",
    "    line.set_ydata(m * x + b)\n",
    "    # Request a widget redraw.\n",
    "    fig.canvas.draw_idle()\n",
    "    "
   ]
  },
  {
   "cell_type": "markdown",
   "id": "d41c761a",
   "metadata": {},
   "source": [
    "#### Exercise 1\n",
    "\n",
    "Write a cell that plots either $sin(kx-p)$ or $cos(kx-p)$ and make it interactive using interact, so that there are sliders for the parameters $0.5<k<2$ and , $0<p<2\\pi$ and a checkbox to switch between $cos$ and $sin$"
   ]
  },
  {
   "cell_type": "code",
   "execution_count": 7,
   "id": "6b170eae",
   "metadata": {},
   "outputs": [],
   "source": [
    "# write code for Exercise 1 here"
   ]
  },
  {
   "cell_type": "markdown",
   "id": "27925a25",
   "metadata": {},
   "source": [
    "## Other useful libraries\n",
    "#### tqdm\n",
    "```tqdm``` provides a very simple loading bar that is useful when running code that takes a long time"
   ]
  },
  {
   "cell_type": "code",
   "execution_count": 8,
   "id": "5cc04ad6",
   "metadata": {},
   "outputs": [],
   "source": [
    "from tqdm import tqdm"
   ]
  },
  {
   "cell_type": "markdown",
   "id": "f2af1263",
   "metadata": {},
   "source": [
    "Simply wrap your loop in the tqdm function and it will automatically create a loading bar for you"
   ]
  },
  {
   "cell_type": "code",
   "execution_count": 18,
   "id": "3ab56204",
   "metadata": {},
   "outputs": [
    {
     "name": "stderr",
     "output_type": "stream",
     "text": [
      "100%|██████████| 1000/1000 [00:05<00:00, 189.69it/s]\n"
     ]
    }
   ],
   "source": [
    "from time import sleep\n",
    "\n",
    "for i in tqdm(range(1000)):\n",
    "    sleep(0.005)"
   ]
  },
  {
   "cell_type": "markdown",
   "id": "c77d64be",
   "metadata": {},
   "source": [
    "#### Seaborn\n",
    "Seaborn is a plotting library that has great and easy visualization tools for scientists. In addition to it's own set of plotting functions, importing seaborn can greatly improve the quality of simple matlab plots"
   ]
  },
  {
   "cell_type": "code",
   "execution_count": 12,
   "id": "1bbeeabe",
   "metadata": {},
   "outputs": [
    {
     "data": {
      "text/plain": [
       "[<matplotlib.lines.Line2D at 0x7fc2f7789f70>]"
      ]
     },
     "execution_count": 12,
     "metadata": {},
     "output_type": "execute_result"
    },
    {
     "data": {
      "image/png": "[encoded data removed]",
      "text/plain": [
       "<Figure size 432x288 with 1 Axes>"
      ]
     },
     "metadata": {
      "needs_background": "light"
     },
     "output_type": "display_data"
    }
   ],
   "source": [
    "import seaborn as sns\n",
    "sns.set_style('darkgrid')\n",
    "%matplotlib inline\n",
    "\n",
    "xs = np.linspace(0,10,1000)\n",
    "fig, ax = plt.subplots()\n",
    "ax.plot(xs, np.sin(xs))\n"
   ]
  },
  {
   "cell_type": "markdown",
   "id": "e114a33b",
   "metadata": {},
   "source": [
    "#### Exercise 1\n",
    "\n",
    "Explore the documentation for seaborn and try plotting some unique plots, feel free to do this either in this jupyter notebook or in the google colab from earlier today using the data from earlier sections"
   ]
  }
 ],
 "metadata": {
  "kernelspec": {
   "display_name": "Python 3",
   "language": "python",
   "name": "python3"
  },
  "language_info": {
   "codemirror_mode": {
    "name": "ipython",
    "version": 3
   },
   "file_extension": ".py",
   "mimetype": "text/x-python",
   "name": "python",
   "nbconvert_exporter": "python",
   "pygments_lexer": "ipython3",
   "version": "3.9.1"
  }
 },
 "nbformat": 4,
 "nbformat_minor": 5
}
